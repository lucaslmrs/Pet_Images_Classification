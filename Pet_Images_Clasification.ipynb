{
  "nbformat": 4,
  "nbformat_minor": 0,
  "metadata": {
    "accelerator": "GPU",
    "colab": {
      "name": "Pet_Images_Clasification.ipynb",
      "provenance": [],
      "collapsed_sections": []
    },
    "kernelspec": {
      "display_name": "Python 3",
      "language": "python",
      "name": "python3"
    },
    "language_info": {
      "codemirror_mode": {
        "name": "ipython",
        "version": 3
      },
      "file_extension": ".py",
      "mimetype": "text/x-python",
      "name": "python",
      "nbconvert_exporter": "python",
      "pygments_lexer": "ipython3",
      "version": "3.8.5"
    }
  },
  "cells": [
    {
      "cell_type": "markdown",
      "metadata": {
        "id": "z7Y8UfYoYtoY"
      },
      "source": [
        "#import"
      ]
    },
    {
      "cell_type": "code",
      "metadata": {
        "colab": {
          "base_uri": "https://localhost:8080/"
        },
        "id": "94W6P2K-0aa2",
        "scrolled": false,
        "outputId": "5ecf94b4-581f-473b-fe95-e2377aaab39b"
      },
      "source": [
        "# Importing the libs we need\n",
        "import os\n",
        "import cv2\n",
        "import numpy as np\n",
        "\n",
        "import tensorflow as tf\n",
        "from tensorflow import keras\n",
        "from tensorflow.keras.models import Sequential, Model\n",
        "from tensorflow.keras.layers import Dense, Conv2D, Flatten\n",
        "from tensorflow.keras.layers import MaxPooling2D\n",
        "\n",
        "from sklearn.model_selection import train_test_split\n",
        "\n",
        "import matplotlib.pyplot as plt\n",
        "\n",
        "print(\"Num GPUs Available: \", len(tf.config.experimental.list_physical_devices('GPU')))"
      ],
      "execution_count": 1,
      "outputs": [
        {
          "output_type": "stream",
          "text": [
            "Num GPUs Available:  1\n"
          ],
          "name": "stdout"
        }
      ]
    },
    {
      "cell_type": "code",
      "metadata": {
        "id": "21QHebBQykVr",
        "colab": {
          "base_uri": "https://localhost:8080/"
        },
        "outputId": "0d9d1036-0f0f-471d-f14c-ca8624baae0c"
      },
      "source": [
        "from google.colab import drive\n",
        "drive.mount('/content/drive')"
      ],
      "execution_count": 2,
      "outputs": [
        {
          "output_type": "stream",
          "text": [
            "Drive already mounted at /content/drive; to attempt to forcibly remount, call drive.mount(\"/content/drive\", force_remount=True).\n"
          ],
          "name": "stdout"
        }
      ]
    },
    {
      "cell_type": "markdown",
      "metadata": {
        "id": "lnbii620Y1Ov"
      },
      "source": [
        "#Load database"
      ]
    },
    {
      "cell_type": "code",
      "metadata": {
        "id": "FaGQWT8y0aa7",
        "scrolled": true,
        "colab": {
          "base_uri": "https://localhost:8080/",
          "height": 52
        },
        "outputId": "7e9addb7-f72c-4007-a984-b01ecac32913"
      },
      "source": [
        "LOCAL_DATABASE_PATH = \"/content/drive/MyDrive/Estudos/estagio/PetImages\"\n",
        "CAT_IMAGES = os.path.join(LOCAL_DATABASE_PATH, 'Cat')\n",
        "DOG_IMAGES = os.path.join(LOCAL_DATABASE_PATH, 'Dog')\n",
        "\n",
        "def get_databases(img_shape=(250,250), train_size = 0.75):\n",
        "\n",
        "  # Image shape used in this database: 128,128\n",
        "  database = np.array([])\n",
        "  labels = np.array([])\n",
        "  qtd = 0\n",
        "\n",
        "  # check if .npy files is already created\n",
        "  if not ( os.path.isfile(os.path.join(LOCAL_DATABASE_PATH, f\"database_{img_shape}.npy\"))\n",
        "          or os.path.isfile(os.path.join(LOCAL_DATABASE_PATH, f\"labels_{img_shape}.npy\")) ):\n",
        "      # LOAD cat image files\n",
        "      for file_ in os.listdir(CAT_IMAGES):\n",
        "          im = cv2.imread(os.path.join(CAT_IMAGES, file_), cv2.IMREAD_GRAYSCALE)\n",
        "          \n",
        "          if im is None: continue\n",
        "          im_resized = cv2.resize(im, img_shape[::-1])\n",
        "          im_resized = im_resized.reshape(img_shape + (1,))\n",
        "\n",
        "          database = np.append(database, im_resized)\n",
        "          labels = np.append(labels, [1,0])\n",
        "\n",
        "          qtd+=1\n",
        "          if qtd%100 == 0:\n",
        "            print(qtd)\n",
        "      \n",
        "      # LOAD dog image files\n",
        "      for file_ in os.listdir(DOG_IMAGES):\n",
        "          im = cv2.imread(os.path.join(DOG_IMAGES, file_), cv2.IMREAD_GRAYSCALE)\n",
        "          \n",
        "          if im is None: continue\n",
        "          im_resized = cv2.resize(im, img_shape[::-1])\n",
        "          im_resized = im_resized.reshape(img_shape + (1,))\n",
        "\n",
        "          database = np.append(database, im_resized)\n",
        "          labels = np.append(labels, [0,1])\n",
        "          qtd+=1\n",
        "          if qtd%100 == 0:\n",
        "            print(qtd)\n",
        "\n",
        "      print(\"[ OK ]\")\n",
        "\n",
        "      database = database.reshape((qtd,) + img_shape + (1,))\n",
        "      labels = labels.reshape((qtd,2))\n",
        "\n",
        "      if not os.path.isdir(LOCAL_DATABASE_PATH):\n",
        "          os.mkdir(LOCAL_DATABASE_PATH, mode=711)\n",
        "\n",
        "      np.save(os.path.join(LOCAL_DATABASE_PATH, f\"database_{img_shape}.npy\"),\n",
        "              database)\n",
        "      np.save(os.path.join(LOCAL_DATABASE_PATH, f\"labels_{img_shape}.npy\"),\n",
        "              labels)\n",
        "  else:\n",
        "      print(\"Loading database from npy file...\", end=' ')\n",
        "      database = np.load(os.path.join(LOCAL_DATABASE_PATH, f\"database_{img_shape}.npy\"))\n",
        "      labels = np.load(os.path.join(LOCAL_DATABASE_PATH, f\"labels_{img_shape}.npy\"))\n",
        "      print(\"[ OK ]\")\n",
        "\n",
        "  x_train, x_valid, y_train, y_valid = train_test_split(database, labels, \n",
        "                                                        test_size=1 - train_size, \n",
        "                                                        shuffle= True)\n",
        "  return x_train, x_valid, y_train, y_valid\n",
        "\n",
        "\"\"\"x_train, x_valid, y_train, y_valid = get_databases(img_shape=(128,128),  train_size = 0.75)\n",
        "print('x_train shape', x_train.shape)\n",
        "print('y_train shape', y_train.shape)\n",
        "print('x_valid shape', x_valid.shape)\n",
        "print('y_valid shape', y_valid.shape)\"\"\""
      ],
      "execution_count": 3,
      "outputs": [
        {
          "output_type": "execute_result",
          "data": {
            "application/vnd.google.colaboratory.intrinsic+json": {
              "type": "string"
            },
            "text/plain": [
              "\"x_train, x_valid, y_train, y_valid = get_databases(img_shape=(128,128),  train_size = 0.75)\\nprint('x_train shape', x_train.shape)\\nprint('y_train shape', y_train.shape)\\nprint('x_valid shape', x_valid.shape)\\nprint('y_valid shape', y_valid.shape)\""
            ]
          },
          "metadata": {
            "tags": []
          },
          "execution_count": 3
        }
      ]
    },
    {
      "cell_type": "markdown",
      "metadata": {
        "id": "pC6HXtwbY8U2"
      },
      "source": [
        "#Models"
      ]
    },
    {
      "cell_type": "markdown",
      "metadata": {
        "id": "59wnPRT0bBmn"
      },
      "source": [
        "#### model 1"
      ]
    },
    {
      "cell_type": "code",
      "metadata": {
        "id": "PmY1Kgsd0aa-",
        "colab": {
          "base_uri": "https://localhost:8080/"
        },
        "outputId": "e113a4e7-307e-4ca1-eedf-7dcc003c817a"
      },
      "source": [
        "acc_list_1 = list()\n",
        "loss_list_1 = list()\n",
        "num_trains = 1\n",
        "img_shape = (128,128, 1)\n",
        "train_size = 0.80\n",
        "for i in range(num_trains):\n",
        "\n",
        "    x_train, x_valid, y_train, y_valid = (0, 0, 0, 0)\n",
        "    x_train, x_valid, y_train, y_valid = get_databases(train_size=train_size, img_shape=img_shape[0:2])\n",
        "\n",
        "    model_1 = Sequential()\n",
        "\n",
        "    model_1.add(Conv2D(16, kernel_size=3, name=\"conv1\", strides=1, activation='relu', input_shape=(img_shape)))\n",
        "    model_1.add(MaxPooling2D(pool_size=(2,2), name=\"pool1\", strides=2))\n",
        "    \n",
        "    model_1.add(Conv2D(16, kernel_size=3,name=\"conv2\", strides=1, activation='relu'))\n",
        "    model_1.add(MaxPooling2D(pool_size=(2,2), name=\"pool2\", strides=2))\n",
        "    \n",
        "    model_1.add(Conv2D(32, kernel_size=3,name=\"conv3\", strides=1, activation='relu'))\n",
        "    model_1.add(MaxPooling2D(pool_size=(2,2), name=\"pool3\", strides=2))\n",
        "    \n",
        "    model_1.add(Conv2D(64, kernel_size=3, name=\"conv4\", strides=1, activation='relu'))\n",
        "    model_1.add(MaxPooling2D(pool_size=(2,2), name=\"pool4\", strides=2))\n",
        "\n",
        "    model_1.add(Flatten())\n",
        "    model_1.add(Dense(50, activation='relu', name=\"dense1\"))\n",
        "    model_1.add(Dense(50, activation='relu', name=\"dense2\"))\n",
        "    model_1.add(Dense(50, activation='relu', name=\"dense3\"))\n",
        "    model_1.add(Dense(2, activation='softmax', name=\"out\"))\n",
        "\n",
        "    model_1.compile(optimizer=\"adam\", loss=\"categorical_crossentropy\", metrics=['accuracy'])\n",
        "\n",
        "    model_1.summary()\n",
        "\n",
        "    print(f\"Training Model... Round {i+1}\", end='  ')\n",
        "    model_1_train = model_1.fit(x_train, y_train, verbose=1, batch_size=16, epochs=50, validation_split=0.05)\n",
        "\n",
        "    results = model_1.evaluate(x_valid, y_valid, batch_size=32, verbose=0)\n",
        "    print('test loss {} - test acc: {}'.format(results[0], results[1]))\n",
        "    acc_list_1.append(results[1])\n",
        "    loss_list_1.append(results[0])\n",
        "\n",
        "  \n",
        "print('Testes:')\n",
        "[print(acc_n) for acc_n in acc_list_1]\n",
        "print(f'Média = {np.sum(acc_list_1)/len(acc_list_1)}')"
      ],
      "execution_count": 4,
      "outputs": [
        {
          "output_type": "stream",
          "text": [
            "Loading database from npy file... [ OK ]\n",
            "Model: \"sequential\"\n",
            "_________________________________________________________________\n",
            "Layer (type)                 Output Shape              Param #   \n",
            "=================================================================\n",
            "conv1 (Conv2D)               (None, 126, 126, 16)      160       \n",
            "_________________________________________________________________\n",
            "pool1 (MaxPooling2D)         (None, 63, 63, 16)        0         \n",
            "_________________________________________________________________\n",
            "conv2 (Conv2D)               (None, 61, 61, 16)        2320      \n",
            "_________________________________________________________________\n",
            "pool2 (MaxPooling2D)         (None, 30, 30, 16)        0         \n",
            "_________________________________________________________________\n",
            "conv3 (Conv2D)               (None, 28, 28, 32)        4640      \n",
            "_________________________________________________________________\n",
            "pool3 (MaxPooling2D)         (None, 14, 14, 32)        0         \n",
            "_________________________________________________________________\n",
            "conv4 (Conv2D)               (None, 12, 12, 64)        18496     \n",
            "_________________________________________________________________\n",
            "pool4 (MaxPooling2D)         (None, 6, 6, 64)          0         \n",
            "_________________________________________________________________\n",
            "flatten (Flatten)            (None, 2304)              0         \n",
            "_________________________________________________________________\n",
            "dense1 (Dense)               (None, 50)                115250    \n",
            "_________________________________________________________________\n",
            "dense2 (Dense)               (None, 50)                2550      \n",
            "_________________________________________________________________\n",
            "dense3 (Dense)               (None, 50)                2550      \n",
            "_________________________________________________________________\n",
            "out (Dense)                  (None, 2)                 102       \n",
            "=================================================================\n",
            "Total params: 146,068\n",
            "Trainable params: 146,068\n",
            "Non-trainable params: 0\n",
            "_________________________________________________________________\n",
            "Training Model... Round 1  Epoch 1/50\n",
            "1185/1185 [==============================] - 38s 6ms/step - loss: 0.7353 - accuracy: 0.5769 - val_loss: 0.5450 - val_accuracy: 0.7375\n",
            "Epoch 2/50\n",
            "1185/1185 [==============================] - 7s 6ms/step - loss: 0.5175 - accuracy: 0.7439 - val_loss: 0.5040 - val_accuracy: 0.7465\n",
            "Epoch 3/50\n",
            "1185/1185 [==============================] - 7s 6ms/step - loss: 0.4402 - accuracy: 0.8016 - val_loss: 0.4368 - val_accuracy: 0.8026\n",
            "Epoch 4/50\n",
            "1185/1185 [==============================] - 7s 6ms/step - loss: 0.3765 - accuracy: 0.8321 - val_loss: 0.4315 - val_accuracy: 0.8026\n",
            "Epoch 5/50\n",
            "1185/1185 [==============================] - 7s 6ms/step - loss: 0.3281 - accuracy: 0.8589 - val_loss: 0.4981 - val_accuracy: 0.8026\n",
            "Epoch 6/50\n",
            "1185/1185 [==============================] - 7s 6ms/step - loss: 0.2906 - accuracy: 0.8734 - val_loss: 0.5439 - val_accuracy: 0.7856\n",
            "Epoch 7/50\n",
            "1185/1185 [==============================] - 7s 6ms/step - loss: 0.2545 - accuracy: 0.8938 - val_loss: 0.4523 - val_accuracy: 0.8106\n",
            "Epoch 8/50\n",
            "1185/1185 [==============================] - 7s 6ms/step - loss: 0.2234 - accuracy: 0.9082 - val_loss: 0.4454 - val_accuracy: 0.8307\n",
            "Epoch 9/50\n",
            "1185/1185 [==============================] - 7s 6ms/step - loss: 0.1924 - accuracy: 0.9192 - val_loss: 0.4415 - val_accuracy: 0.8367\n",
            "Epoch 10/50\n",
            "1185/1185 [==============================] - 7s 6ms/step - loss: 0.1610 - accuracy: 0.9370 - val_loss: 0.6275 - val_accuracy: 0.8317\n",
            "Epoch 11/50\n",
            "1185/1185 [==============================] - 7s 6ms/step - loss: 0.1460 - accuracy: 0.9409 - val_loss: 0.6068 - val_accuracy: 0.8176\n",
            "Epoch 12/50\n",
            "1185/1185 [==============================] - 7s 6ms/step - loss: 0.1261 - accuracy: 0.9513 - val_loss: 0.7034 - val_accuracy: 0.7976\n",
            "Epoch 13/50\n",
            "1185/1185 [==============================] - 7s 6ms/step - loss: 0.1071 - accuracy: 0.9559 - val_loss: 0.6478 - val_accuracy: 0.8236\n",
            "Epoch 14/50\n",
            "1185/1185 [==============================] - 7s 6ms/step - loss: 0.1020 - accuracy: 0.9582 - val_loss: 0.6355 - val_accuracy: 0.8236\n",
            "Epoch 15/50\n",
            "1185/1185 [==============================] - 7s 6ms/step - loss: 0.0895 - accuracy: 0.9643 - val_loss: 0.7146 - val_accuracy: 0.8156\n",
            "Epoch 16/50\n",
            "1185/1185 [==============================] - 7s 6ms/step - loss: 0.0824 - accuracy: 0.9692 - val_loss: 0.9382 - val_accuracy: 0.7635\n",
            "Epoch 17/50\n",
            "1185/1185 [==============================] - 7s 6ms/step - loss: 0.0849 - accuracy: 0.9677 - val_loss: 0.7823 - val_accuracy: 0.8267\n",
            "Epoch 18/50\n",
            "1185/1185 [==============================] - 7s 6ms/step - loss: 0.0629 - accuracy: 0.9760 - val_loss: 0.8161 - val_accuracy: 0.8126\n",
            "Epoch 19/50\n",
            "1185/1185 [==============================] - 7s 6ms/step - loss: 0.0635 - accuracy: 0.9751 - val_loss: 0.9068 - val_accuracy: 0.7876\n",
            "Epoch 20/50\n",
            "1185/1185 [==============================] - 7s 6ms/step - loss: 0.0715 - accuracy: 0.9750 - val_loss: 0.8250 - val_accuracy: 0.8026\n",
            "Epoch 21/50\n",
            "1185/1185 [==============================] - 7s 6ms/step - loss: 0.0509 - accuracy: 0.9799 - val_loss: 0.9600 - val_accuracy: 0.7896\n",
            "Epoch 22/50\n",
            "1185/1185 [==============================] - 7s 6ms/step - loss: 0.0578 - accuracy: 0.9814 - val_loss: 0.7556 - val_accuracy: 0.8036\n",
            "Epoch 23/50\n",
            "1185/1185 [==============================] - 7s 6ms/step - loss: 0.0512 - accuracy: 0.9811 - val_loss: 0.9338 - val_accuracy: 0.8186\n",
            "Epoch 24/50\n",
            "1185/1185 [==============================] - 7s 6ms/step - loss: 0.0521 - accuracy: 0.9820 - val_loss: 0.9851 - val_accuracy: 0.8156\n",
            "Epoch 25/50\n",
            "1185/1185 [==============================] - 7s 6ms/step - loss: 0.0513 - accuracy: 0.9814 - val_loss: 0.9016 - val_accuracy: 0.8166\n",
            "Epoch 26/50\n",
            "1185/1185 [==============================] - 7s 6ms/step - loss: 0.0471 - accuracy: 0.9827 - val_loss: 1.0371 - val_accuracy: 0.8257\n",
            "Epoch 27/50\n",
            "1185/1185 [==============================] - 7s 6ms/step - loss: 0.0436 - accuracy: 0.9834 - val_loss: 0.8244 - val_accuracy: 0.8006\n",
            "Epoch 28/50\n",
            "1185/1185 [==============================] - 7s 6ms/step - loss: 0.0399 - accuracy: 0.9860 - val_loss: 0.9748 - val_accuracy: 0.8146\n",
            "Epoch 29/50\n",
            "1185/1185 [==============================] - 7s 6ms/step - loss: 0.0398 - accuracy: 0.9854 - val_loss: 1.1362 - val_accuracy: 0.8216\n",
            "Epoch 30/50\n",
            "1185/1185 [==============================] - 7s 6ms/step - loss: 0.0526 - accuracy: 0.9823 - val_loss: 1.0572 - val_accuracy: 0.7906\n",
            "Epoch 31/50\n",
            "1185/1185 [==============================] - 7s 6ms/step - loss: 0.0461 - accuracy: 0.9824 - val_loss: 0.9045 - val_accuracy: 0.8297\n",
            "Epoch 32/50\n",
            "1185/1185 [==============================] - 7s 6ms/step - loss: 0.0310 - accuracy: 0.9879 - val_loss: 1.3398 - val_accuracy: 0.8246\n",
            "Epoch 33/50\n",
            "1185/1185 [==============================] - 7s 6ms/step - loss: 0.0361 - accuracy: 0.9885 - val_loss: 1.2377 - val_accuracy: 0.8106\n",
            "Epoch 34/50\n",
            "1185/1185 [==============================] - 7s 6ms/step - loss: 0.0386 - accuracy: 0.9869 - val_loss: 1.0290 - val_accuracy: 0.8337\n",
            "Epoch 35/50\n",
            "1185/1185 [==============================] - 7s 6ms/step - loss: 0.0397 - accuracy: 0.9871 - val_loss: 1.0389 - val_accuracy: 0.8226\n",
            "Epoch 36/50\n",
            "1185/1185 [==============================] - 7s 6ms/step - loss: 0.0320 - accuracy: 0.9882 - val_loss: 0.9190 - val_accuracy: 0.8236\n",
            "Epoch 37/50\n",
            "1185/1185 [==============================] - 7s 6ms/step - loss: 0.0448 - accuracy: 0.9839 - val_loss: 1.2652 - val_accuracy: 0.8327\n",
            "Epoch 38/50\n",
            "1185/1185 [==============================] - 7s 6ms/step - loss: 0.0374 - accuracy: 0.9877 - val_loss: 0.9857 - val_accuracy: 0.8277\n",
            "Epoch 39/50\n",
            "1185/1185 [==============================] - 7s 6ms/step - loss: 0.0247 - accuracy: 0.9913 - val_loss: 1.0509 - val_accuracy: 0.8357\n",
            "Epoch 40/50\n",
            "1185/1185 [==============================] - 7s 6ms/step - loss: 0.0388 - accuracy: 0.9876 - val_loss: 0.9993 - val_accuracy: 0.8287\n",
            "Epoch 41/50\n",
            "1185/1185 [==============================] - 7s 6ms/step - loss: 0.0373 - accuracy: 0.9876 - val_loss: 1.0518 - val_accuracy: 0.8297\n",
            "Epoch 42/50\n",
            "1185/1185 [==============================] - 7s 6ms/step - loss: 0.0198 - accuracy: 0.9934 - val_loss: 0.8690 - val_accuracy: 0.8236\n",
            "Epoch 43/50\n",
            "1185/1185 [==============================] - 7s 6ms/step - loss: 0.0224 - accuracy: 0.9921 - val_loss: 1.0584 - val_accuracy: 0.8196\n",
            "Epoch 44/50\n",
            "1185/1185 [==============================] - 7s 6ms/step - loss: 0.0289 - accuracy: 0.9903 - val_loss: 1.2808 - val_accuracy: 0.8367\n",
            "Epoch 45/50\n",
            "1185/1185 [==============================] - 7s 6ms/step - loss: 0.0290 - accuracy: 0.9899 - val_loss: 1.3467 - val_accuracy: 0.8206\n",
            "Epoch 46/50\n",
            "1185/1185 [==============================] - 7s 6ms/step - loss: 0.0251 - accuracy: 0.9916 - val_loss: 1.4174 - val_accuracy: 0.8196\n",
            "Epoch 47/50\n",
            "1185/1185 [==============================] - 7s 6ms/step - loss: 0.0333 - accuracy: 0.9882 - val_loss: 1.0711 - val_accuracy: 0.8317\n",
            "Epoch 48/50\n",
            "1185/1185 [==============================] - 7s 6ms/step - loss: 0.0242 - accuracy: 0.9922 - val_loss: 1.4298 - val_accuracy: 0.8236\n",
            "Epoch 49/50\n",
            "1185/1185 [==============================] - 7s 6ms/step - loss: 0.0278 - accuracy: 0.9911 - val_loss: 1.5672 - val_accuracy: 0.8307\n",
            "Epoch 50/50\n",
            "1185/1185 [==============================] - 7s 6ms/step - loss: 0.0639 - accuracy: 0.9787 - val_loss: 1.4517 - val_accuracy: 0.8186\n",
            "test loss 1.2251523733139038 - test acc: 0.8438877463340759\n",
            "Testes:\n",
            "0.8438877463340759\n",
            "Média = 0.8438877463340759\n"
          ],
          "name": "stdout"
        }
      ]
    },
    {
      "cell_type": "code",
      "metadata": {
        "id": "_akXCSpfA0Cm"
      },
      "source": [
        "#model_1.save(\"/content/drive/MyDrive/Estudos/estagio/PetImages/models\")"
      ],
      "execution_count": 5,
      "outputs": []
    },
    {
      "cell_type": "markdown",
      "metadata": {
        "id": "cAw4E8xRZBIW"
      },
      "source": [
        "# Graphics"
      ]
    },
    {
      "cell_type": "markdown",
      "metadata": {
        "id": "hvSMy_JAndtK"
      },
      "source": [
        "#### predicts"
      ]
    },
    {
      "cell_type": "code",
      "metadata": {
        "id": "gfxi7UJwndtN"
      },
      "source": [
        "x_predict_model_1 = model_1.predict(x_valid)\r\n",
        "CAT_model_1 = list()\r\n",
        "DOG_model_1 = list()\r\n",
        "for index, answer in enumerate(y_valid):\r\n",
        "  #print(f'{index} -> \\t\\t{x_predict_model_1[index]}   \\t?  \\t{answer}')\r\n",
        "  \r\n",
        "  if answer[0] > 0.5:\r\n",
        "    CAT_model_1.append(x_predict_model_1[index][0])\r\n",
        "  else:\r\n",
        "    DOG_model_1.append(x_predict_model_1[index][1])\r\n",
        "\r\n",
        "#print(CAT_model_1)\r\n",
        "#print(DOG_model_1)"
      ],
      "execution_count": 8,
      "outputs": []
    },
    {
      "cell_type": "markdown",
      "metadata": {
        "id": "PcZJzwFSnpYi"
      },
      "source": [
        "#### Distributions"
      ]
    },
    {
      "cell_type": "code",
      "metadata": {
        "id": "YIwVYc5unpYl",
        "colab": {
          "base_uri": "https://localhost:8080/",
          "height": 530
        },
        "outputId": "2b89be2f-345a-47d7-ded7-e5befe0b2aff"
      },
      "source": [
        "f, (ax1, ax2) = plt.subplots(1, 2, sharey=True, figsize=(11.7, 8.27))\r\n",
        "\r\n",
        "ax1.set_title('CAT Images')\r\n",
        "ax1.violinplot(CAT_model_1)\r\n",
        "ax1.set_ylabel(\"distribution of model predictions\")\r\n",
        "\r\n",
        "ax2.set_title('DOG Images')\r\n",
        "ax2.violinplot(DOG_model_1)\r\n",
        "ax2.set_ylabel(\"distribution of model predictions\")"
      ],
      "execution_count": 7,
      "outputs": [
        {
          "output_type": "execute_result",
          "data": {
            "text/plain": [
              "Text(0, 0.5, 'distribution of model predictions')"
            ]
          },
          "metadata": {
            "tags": []
          },
          "execution_count": 7
        },
        {
          "output_type": "display_data",
          "data": {
            "image/png": "[encoded data removed]",
            "text/plain": [
              "<Figure size 842.4x595.44 with 2 Axes>"
            ]
          },
          "metadata": {
            "tags": [],
            "needs_background": "light"
          }
        }
      ]
    }
  ]
}